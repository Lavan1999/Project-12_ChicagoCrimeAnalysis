{
 "cells": [
  {
   "cell_type": "markdown",
   "metadata": {},
   "source": [
    "# Chicago Crime Analysis"
   ]
  },
  {
   "cell_type": "code",
   "execution_count": 1,
   "metadata": {},
   "outputs": [],
   "source": [
    "import pandas as pd"
   ]
  },
  {
   "cell_type": "code",
   "execution_count": 2,
   "metadata": {},
   "outputs": [],
   "source": [
    "df = pd.read_csv(r'C:\\Users\\DELL\\Desktop\\Projects\\Chicago Crime Analyzer\\Crimes_-_2001_to_Present.csv')"
   ]
  },
  {
   "cell_type": "code",
   "execution_count": 3,
   "metadata": {},
   "outputs": [
    {
     "data": {
      "text/html": [
       "<div>\n",
       "<style scoped>\n",
       "    .dataframe tbody tr th:only-of-type {\n",
       "        vertical-align: middle;\n",
       "    }\n",
       "\n",
       "    .dataframe tbody tr th {\n",
       "        vertical-align: top;\n",
       "    }\n",
       "\n",
       "    .dataframe thead th {\n",
       "        text-align: right;\n",
       "    }\n",
       "</style>\n",
       "<table border=\"1\" class=\"dataframe\">\n",
       "  <thead>\n",
       "    <tr style=\"text-align: right;\">\n",
       "      <th></th>\n",
       "      <th>ID</th>\n",
       "      <th>Case Number</th>\n",
       "      <th>Date</th>\n",
       "      <th>Block</th>\n",
       "      <th>IUCR</th>\n",
       "      <th>Primary Type</th>\n",
       "      <th>Description</th>\n",
       "      <th>Location Description</th>\n",
       "      <th>Arrest</th>\n",
       "      <th>Domestic</th>\n",
       "      <th>...</th>\n",
       "      <th>Ward</th>\n",
       "      <th>Community Area</th>\n",
       "      <th>FBI Code</th>\n",
       "      <th>X Coordinate</th>\n",
       "      <th>Y Coordinate</th>\n",
       "      <th>Year</th>\n",
       "      <th>Updated On</th>\n",
       "      <th>Latitude</th>\n",
       "      <th>Longitude</th>\n",
       "      <th>Location</th>\n",
       "    </tr>\n",
       "  </thead>\n",
       "  <tbody>\n",
       "    <tr>\n",
       "      <th>0</th>\n",
       "      <td>5741943</td>\n",
       "      <td>HN549294</td>\n",
       "      <td>08/25/2007 09:22:18 AM</td>\n",
       "      <td>074XX N ROGERS AVE</td>\n",
       "      <td>0560</td>\n",
       "      <td>ASSAULT</td>\n",
       "      <td>SIMPLE</td>\n",
       "      <td>OTHER</td>\n",
       "      <td>False</td>\n",
       "      <td>False</td>\n",
       "      <td>...</td>\n",
       "      <td>49.0</td>\n",
       "      <td>1.0</td>\n",
       "      <td>08A</td>\n",
       "      <td>NaN</td>\n",
       "      <td>NaN</td>\n",
       "      <td>2007</td>\n",
       "      <td>08/17/2015 03:03:40 PM</td>\n",
       "      <td>NaN</td>\n",
       "      <td>NaN</td>\n",
       "      <td>NaN</td>\n",
       "    </tr>\n",
       "    <tr>\n",
       "      <th>1</th>\n",
       "      <td>25953</td>\n",
       "      <td>JE240540</td>\n",
       "      <td>05/24/2021 03:06:00 PM</td>\n",
       "      <td>020XX N LARAMIE AVE</td>\n",
       "      <td>0110</td>\n",
       "      <td>HOMICIDE</td>\n",
       "      <td>FIRST DEGREE MURDER</td>\n",
       "      <td>STREET</td>\n",
       "      <td>True</td>\n",
       "      <td>False</td>\n",
       "      <td>...</td>\n",
       "      <td>36.0</td>\n",
       "      <td>19.0</td>\n",
       "      <td>01A</td>\n",
       "      <td>1141387.0</td>\n",
       "      <td>1913179.0</td>\n",
       "      <td>2021</td>\n",
       "      <td>11/18/2023 03:39:49 PM</td>\n",
       "      <td>41.917838</td>\n",
       "      <td>-87.755969</td>\n",
       "      <td>(41.917838056, -87.755968972)</td>\n",
       "    </tr>\n",
       "    <tr>\n",
       "      <th>2</th>\n",
       "      <td>26038</td>\n",
       "      <td>JE279849</td>\n",
       "      <td>06/26/2021 09:24:00 AM</td>\n",
       "      <td>062XX N MC CORMICK RD</td>\n",
       "      <td>0110</td>\n",
       "      <td>HOMICIDE</td>\n",
       "      <td>FIRST DEGREE MURDER</td>\n",
       "      <td>PARKING LOT</td>\n",
       "      <td>True</td>\n",
       "      <td>False</td>\n",
       "      <td>...</td>\n",
       "      <td>50.0</td>\n",
       "      <td>13.0</td>\n",
       "      <td>01A</td>\n",
       "      <td>1152781.0</td>\n",
       "      <td>1941458.0</td>\n",
       "      <td>2021</td>\n",
       "      <td>11/18/2023 03:39:49 PM</td>\n",
       "      <td>41.995219</td>\n",
       "      <td>-87.713355</td>\n",
       "      <td>(41.995219444, -87.713354912)</td>\n",
       "    </tr>\n",
       "    <tr>\n",
       "      <th>3</th>\n",
       "      <td>13279676</td>\n",
       "      <td>JG507211</td>\n",
       "      <td>11/09/2023 07:30:00 AM</td>\n",
       "      <td>019XX W BYRON ST</td>\n",
       "      <td>0620</td>\n",
       "      <td>BURGLARY</td>\n",
       "      <td>UNLAWFUL ENTRY</td>\n",
       "      <td>APARTMENT</td>\n",
       "      <td>False</td>\n",
       "      <td>False</td>\n",
       "      <td>...</td>\n",
       "      <td>47.0</td>\n",
       "      <td>5.0</td>\n",
       "      <td>05</td>\n",
       "      <td>1162518.0</td>\n",
       "      <td>1925906.0</td>\n",
       "      <td>2023</td>\n",
       "      <td>11/18/2023 03:39:49 PM</td>\n",
       "      <td>41.952345</td>\n",
       "      <td>-87.677975</td>\n",
       "      <td>(41.952345086, -87.677975059)</td>\n",
       "    </tr>\n",
       "    <tr>\n",
       "      <th>4</th>\n",
       "      <td>13274752</td>\n",
       "      <td>JG501049</td>\n",
       "      <td>11/12/2023 07:59:00 AM</td>\n",
       "      <td>086XX S COTTAGE GROVE AVE</td>\n",
       "      <td>0454</td>\n",
       "      <td>BATTERY</td>\n",
       "      <td>AGGRAVATED P.O. - HANDS, FISTS, FEET, NO / MIN...</td>\n",
       "      <td>SMALL RETAIL STORE</td>\n",
       "      <td>True</td>\n",
       "      <td>False</td>\n",
       "      <td>...</td>\n",
       "      <td>6.0</td>\n",
       "      <td>44.0</td>\n",
       "      <td>08B</td>\n",
       "      <td>1183071.0</td>\n",
       "      <td>1847869.0</td>\n",
       "      <td>2023</td>\n",
       "      <td>12/09/2023 03:41:24 PM</td>\n",
       "      <td>41.737751</td>\n",
       "      <td>-87.604856</td>\n",
       "      <td>(41.737750767, -87.604855911)</td>\n",
       "    </tr>\n",
       "  </tbody>\n",
       "</table>\n",
       "<p>5 rows × 22 columns</p>\n",
       "</div>"
      ],
      "text/plain": [
       "         ID Case Number                    Date                      Block  \\\n",
       "0   5741943    HN549294  08/25/2007 09:22:18 AM         074XX N ROGERS AVE   \n",
       "1     25953    JE240540  05/24/2021 03:06:00 PM        020XX N LARAMIE AVE   \n",
       "2     26038    JE279849  06/26/2021 09:24:00 AM      062XX N MC CORMICK RD   \n",
       "3  13279676    JG507211  11/09/2023 07:30:00 AM           019XX W BYRON ST   \n",
       "4  13274752    JG501049  11/12/2023 07:59:00 AM  086XX S COTTAGE GROVE AVE   \n",
       "\n",
       "   IUCR Primary Type                                        Description  \\\n",
       "0  0560      ASSAULT                                             SIMPLE   \n",
       "1  0110     HOMICIDE                                FIRST DEGREE MURDER   \n",
       "2  0110     HOMICIDE                                FIRST DEGREE MURDER   \n",
       "3  0620     BURGLARY                                     UNLAWFUL ENTRY   \n",
       "4  0454      BATTERY  AGGRAVATED P.O. - HANDS, FISTS, FEET, NO / MIN...   \n",
       "\n",
       "  Location Description  Arrest  Domestic  ...  Ward  Community Area  FBI Code  \\\n",
       "0                OTHER   False     False  ...  49.0             1.0       08A   \n",
       "1               STREET    True     False  ...  36.0            19.0       01A   \n",
       "2          PARKING LOT    True     False  ...  50.0            13.0       01A   \n",
       "3            APARTMENT   False     False  ...  47.0             5.0        05   \n",
       "4   SMALL RETAIL STORE    True     False  ...   6.0            44.0       08B   \n",
       "\n",
       "   X Coordinate Y Coordinate  Year              Updated On   Latitude  \\\n",
       "0           NaN          NaN  2007  08/17/2015 03:03:40 PM        NaN   \n",
       "1     1141387.0    1913179.0  2021  11/18/2023 03:39:49 PM  41.917838   \n",
       "2     1152781.0    1941458.0  2021  11/18/2023 03:39:49 PM  41.995219   \n",
       "3     1162518.0    1925906.0  2023  11/18/2023 03:39:49 PM  41.952345   \n",
       "4     1183071.0    1847869.0  2023  12/09/2023 03:41:24 PM  41.737751   \n",
       "\n",
       "   Longitude                       Location  \n",
       "0        NaN                            NaN  \n",
       "1 -87.755969  (41.917838056, -87.755968972)  \n",
       "2 -87.713355  (41.995219444, -87.713354912)  \n",
       "3 -87.677975  (41.952345086, -87.677975059)  \n",
       "4 -87.604856  (41.737750767, -87.604855911)  \n",
       "\n",
       "[5 rows x 22 columns]"
      ]
     },
     "execution_count": 3,
     "metadata": {},
     "output_type": "execute_result"
    }
   ],
   "source": [
    "df.head()"
   ]
  },
  {
   "cell_type": "markdown",
   "metadata": {},
   "source": [
    "# EDA-Exploratory Data Analysis"
   ]
  },
  {
   "cell_type": "code",
   "execution_count": 4,
   "metadata": {},
   "outputs": [
    {
     "data": {
      "text/plain": [
       "(8077151, 22)"
      ]
     },
     "execution_count": 4,
     "metadata": {},
     "output_type": "execute_result"
    }
   ],
   "source": [
    "df.shape"
   ]
  },
  {
   "cell_type": "code",
   "execution_count": 5,
   "metadata": {},
   "outputs": [
    {
     "data": {
      "text/plain": [
       "Index(['ID', 'Case Number', 'Date', 'Block', 'IUCR', 'Primary Type',\n",
       "       'Description', 'Location Description', 'Arrest', 'Domestic', 'Beat',\n",
       "       'District', 'Ward', 'Community Area', 'FBI Code', 'X Coordinate',\n",
       "       'Y Coordinate', 'Year', 'Updated On', 'Latitude', 'Longitude',\n",
       "       'Location'],\n",
       "      dtype='object')"
      ]
     },
     "execution_count": 5,
     "metadata": {},
     "output_type": "execute_result"
    }
   ],
   "source": [
    "df.columns"
   ]
  },
  {
   "cell_type": "code",
   "execution_count": 6,
   "metadata": {},
   "outputs": [
    {
     "data": {
      "text/plain": [
       "ID                           0\n",
       "Case Number                  0\n",
       "Date                         0\n",
       "Block                        0\n",
       "IUCR                         0\n",
       "Primary Type                 0\n",
       "Description                  0\n",
       "Location Description     13087\n",
       "Arrest                       0\n",
       "Domestic                     0\n",
       "Beat                         0\n",
       "District                    47\n",
       "Ward                    614846\n",
       "Community Area          613470\n",
       "FBI Code                     0\n",
       "X Coordinate             88958\n",
       "Y Coordinate             88958\n",
       "Year                         0\n",
       "Updated On                   0\n",
       "Latitude                 88958\n",
       "Longitude                88958\n",
       "Location                 88958\n",
       "dtype: int64"
      ]
     },
     "execution_count": 6,
     "metadata": {},
     "output_type": "execute_result"
    }
   ],
   "source": [
    "df.isnull().sum()"
   ]
  },
  {
   "cell_type": "code",
   "execution_count": 7,
   "metadata": {},
   "outputs": [],
   "source": [
    "df1 = df.dropna()"
   ]
  },
  {
   "cell_type": "code",
   "execution_count": 8,
   "metadata": {},
   "outputs": [
    {
     "data": {
      "text/plain": [
       "ID                      0\n",
       "Case Number             0\n",
       "Date                    0\n",
       "Block                   0\n",
       "IUCR                    0\n",
       "Primary Type            0\n",
       "Description             0\n",
       "Location Description    0\n",
       "Arrest                  0\n",
       "Domestic                0\n",
       "Beat                    0\n",
       "District                0\n",
       "Ward                    0\n",
       "Community Area          0\n",
       "FBI Code                0\n",
       "X Coordinate            0\n",
       "Y Coordinate            0\n",
       "Year                    0\n",
       "Updated On              0\n",
       "Latitude                0\n",
       "Longitude               0\n",
       "Location                0\n",
       "dtype: int64"
      ]
     },
     "execution_count": 8,
     "metadata": {},
     "output_type": "execute_result"
    }
   ],
   "source": [
    "df1.isnull().sum()"
   ]
  },
  {
   "cell_type": "code",
   "execution_count": 9,
   "metadata": {},
   "outputs": [
    {
     "data": {
      "text/plain": [
       "0"
      ]
     },
     "execution_count": 9,
     "metadata": {},
     "output_type": "execute_result"
    }
   ],
   "source": [
    "df1.duplicated().sum()"
   ]
  },
  {
   "cell_type": "code",
   "execution_count": 10,
   "metadata": {},
   "outputs": [
    {
     "data": {
      "text/plain": [
       "((8077151, 22), (7373082, 22))"
      ]
     },
     "execution_count": 10,
     "metadata": {},
     "output_type": "execute_result"
    }
   ],
   "source": [
    "df.shape, df1.shape"
   ]
  },
  {
   "cell_type": "code",
   "execution_count": 11,
   "metadata": {},
   "outputs": [
    {
     "data": {
      "text/html": [
       "<div>\n",
       "<style scoped>\n",
       "    .dataframe tbody tr th:only-of-type {\n",
       "        vertical-align: middle;\n",
       "    }\n",
       "\n",
       "    .dataframe tbody tr th {\n",
       "        vertical-align: top;\n",
       "    }\n",
       "\n",
       "    .dataframe thead th {\n",
       "        text-align: right;\n",
       "    }\n",
       "</style>\n",
       "<table border=\"1\" class=\"dataframe\">\n",
       "  <thead>\n",
       "    <tr style=\"text-align: right;\">\n",
       "      <th></th>\n",
       "      <th>count</th>\n",
       "      <th>mean</th>\n",
       "      <th>std</th>\n",
       "      <th>min</th>\n",
       "      <th>25%</th>\n",
       "      <th>50%</th>\n",
       "      <th>75%</th>\n",
       "      <th>max</th>\n",
       "    </tr>\n",
       "  </thead>\n",
       "  <tbody>\n",
       "    <tr>\n",
       "      <th>ID</th>\n",
       "      <td>7373082.0</td>\n",
       "      <td>7.690144e+06</td>\n",
       "      <td>3.389041e+06</td>\n",
       "      <td>634.000000</td>\n",
       "      <td>4.672672e+06</td>\n",
       "      <td>7.700412e+06</td>\n",
       "      <td>1.071455e+07</td>\n",
       "      <td>1.348378e+07</td>\n",
       "    </tr>\n",
       "    <tr>\n",
       "      <th>Beat</th>\n",
       "      <td>7373082.0</td>\n",
       "      <td>1.181037e+03</td>\n",
       "      <td>7.027739e+02</td>\n",
       "      <td>111.000000</td>\n",
       "      <td>6.210000e+02</td>\n",
       "      <td>1.034000e+03</td>\n",
       "      <td>1.724000e+03</td>\n",
       "      <td>2.535000e+03</td>\n",
       "    </tr>\n",
       "    <tr>\n",
       "      <th>District</th>\n",
       "      <td>7373082.0</td>\n",
       "      <td>1.128699e+01</td>\n",
       "      <td>6.954011e+00</td>\n",
       "      <td>1.000000</td>\n",
       "      <td>6.000000e+00</td>\n",
       "      <td>1.000000e+01</td>\n",
       "      <td>1.700000e+01</td>\n",
       "      <td>3.100000e+01</td>\n",
       "    </tr>\n",
       "    <tr>\n",
       "      <th>Ward</th>\n",
       "      <td>7373082.0</td>\n",
       "      <td>2.275423e+01</td>\n",
       "      <td>1.385002e+01</td>\n",
       "      <td>1.000000</td>\n",
       "      <td>1.000000e+01</td>\n",
       "      <td>2.300000e+01</td>\n",
       "      <td>3.400000e+01</td>\n",
       "      <td>5.000000e+01</td>\n",
       "    </tr>\n",
       "    <tr>\n",
       "      <th>Community Area</th>\n",
       "      <td>7373082.0</td>\n",
       "      <td>3.744582e+01</td>\n",
       "      <td>2.153468e+01</td>\n",
       "      <td>0.000000</td>\n",
       "      <td>2.300000e+01</td>\n",
       "      <td>3.200000e+01</td>\n",
       "      <td>5.700000e+01</td>\n",
       "      <td>7.700000e+01</td>\n",
       "    </tr>\n",
       "    <tr>\n",
       "      <th>X Coordinate</th>\n",
       "      <td>7373082.0</td>\n",
       "      <td>1.164629e+06</td>\n",
       "      <td>1.685019e+04</td>\n",
       "      <td>0.000000</td>\n",
       "      <td>1.152976e+06</td>\n",
       "      <td>1.166166e+06</td>\n",
       "      <td>1.176399e+06</td>\n",
       "      <td>1.205119e+06</td>\n",
       "    </tr>\n",
       "    <tr>\n",
       "      <th>Y Coordinate</th>\n",
       "      <td>7373082.0</td>\n",
       "      <td>1.885737e+06</td>\n",
       "      <td>3.228870e+04</td>\n",
       "      <td>0.000000</td>\n",
       "      <td>1.858942e+06</td>\n",
       "      <td>1.890745e+06</td>\n",
       "      <td>1.909207e+06</td>\n",
       "      <td>1.951573e+06</td>\n",
       "    </tr>\n",
       "    <tr>\n",
       "      <th>Year</th>\n",
       "      <td>7373082.0</td>\n",
       "      <td>2.011169e+03</td>\n",
       "      <td>6.321166e+00</td>\n",
       "      <td>2001.000000</td>\n",
       "      <td>2.006000e+03</td>\n",
       "      <td>2.010000e+03</td>\n",
       "      <td>2.016000e+03</td>\n",
       "      <td>2.024000e+03</td>\n",
       "    </tr>\n",
       "    <tr>\n",
       "      <th>Latitude</th>\n",
       "      <td>7373082.0</td>\n",
       "      <td>4.184206e+01</td>\n",
       "      <td>8.883184e-02</td>\n",
       "      <td>36.619446</td>\n",
       "      <td>4.176835e+01</td>\n",
       "      <td>4.185596e+01</td>\n",
       "      <td>4.190663e+01</td>\n",
       "      <td>4.202271e+01</td>\n",
       "    </tr>\n",
       "    <tr>\n",
       "      <th>Longitude</th>\n",
       "      <td>7373082.0</td>\n",
       "      <td>-8.767139e+01</td>\n",
       "      <td>6.110215e-02</td>\n",
       "      <td>-91.686566</td>\n",
       "      <td>-8.771367e+01</td>\n",
       "      <td>-8.766571e+01</td>\n",
       "      <td>-8.762807e+01</td>\n",
       "      <td>-8.752453e+01</td>\n",
       "    </tr>\n",
       "  </tbody>\n",
       "</table>\n",
       "</div>"
      ],
      "text/plain": [
       "                    count          mean           std          min  \\\n",
       "ID              7373082.0  7.690144e+06  3.389041e+06   634.000000   \n",
       "Beat            7373082.0  1.181037e+03  7.027739e+02   111.000000   \n",
       "District        7373082.0  1.128699e+01  6.954011e+00     1.000000   \n",
       "Ward            7373082.0  2.275423e+01  1.385002e+01     1.000000   \n",
       "Community Area  7373082.0  3.744582e+01  2.153468e+01     0.000000   \n",
       "X Coordinate    7373082.0  1.164629e+06  1.685019e+04     0.000000   \n",
       "Y Coordinate    7373082.0  1.885737e+06  3.228870e+04     0.000000   \n",
       "Year            7373082.0  2.011169e+03  6.321166e+00  2001.000000   \n",
       "Latitude        7373082.0  4.184206e+01  8.883184e-02    36.619446   \n",
       "Longitude       7373082.0 -8.767139e+01  6.110215e-02   -91.686566   \n",
       "\n",
       "                         25%           50%           75%           max  \n",
       "ID              4.672672e+06  7.700412e+06  1.071455e+07  1.348378e+07  \n",
       "Beat            6.210000e+02  1.034000e+03  1.724000e+03  2.535000e+03  \n",
       "District        6.000000e+00  1.000000e+01  1.700000e+01  3.100000e+01  \n",
       "Ward            1.000000e+01  2.300000e+01  3.400000e+01  5.000000e+01  \n",
       "Community Area  2.300000e+01  3.200000e+01  5.700000e+01  7.700000e+01  \n",
       "X Coordinate    1.152976e+06  1.166166e+06  1.176399e+06  1.205119e+06  \n",
       "Y Coordinate    1.858942e+06  1.890745e+06  1.909207e+06  1.951573e+06  \n",
       "Year            2.006000e+03  2.010000e+03  2.016000e+03  2.024000e+03  \n",
       "Latitude        4.176835e+01  4.185596e+01  4.190663e+01  4.202271e+01  \n",
       "Longitude      -8.771367e+01 -8.766571e+01 -8.762807e+01 -8.752453e+01  "
      ]
     },
     "execution_count": 11,
     "metadata": {},
     "output_type": "execute_result"
    }
   ],
   "source": [
    "df1.describe().T"
   ]
  },
  {
   "cell_type": "code",
   "execution_count": 12,
   "metadata": {},
   "outputs": [
    {
     "data": {
      "text/plain": [
       "(13483783, 2535, 31.0)"
      ]
     },
     "execution_count": 12,
     "metadata": {},
     "output_type": "execute_result"
    }
   ],
   "source": [
    "df1.ID.max(),df1.Beat.max(),df1.District.max()"
   ]
  },
  {
   "cell_type": "code",
   "execution_count": 13,
   "metadata": {},
   "outputs": [
    {
     "ename": "AttributeError",
     "evalue": "'function' object has no attribute 'max_columns'",
     "output_type": "error",
     "traceback": [
      "\u001b[1;31m---------------------------------------------------------------------------\u001b[0m",
      "\u001b[1;31mAttributeError\u001b[0m                            Traceback (most recent call last)",
      "Cell \u001b[1;32mIn[13], line 1\u001b[0m\n\u001b[1;32m----> 1\u001b[0m df1 \u001b[38;5;241m=\u001b[39m (\u001b[43mdisplay\u001b[49m\u001b[38;5;241;43m.\u001b[39;49m\u001b[43mmax_columns\u001b[49m)\n",
      "\u001b[1;31mAttributeError\u001b[0m: 'function' object has no attribute 'max_columns'"
     ]
    }
   ],
   "source": [
    "df1 = (display.max_columns)"
   ]
  },
  {
   "cell_type": "code",
   "execution_count": null,
   "metadata": {},
   "outputs": [],
   "source": [
    "import seaborn as sns\n",
    "import matplotlib.pyplot as plt\n",
    "def plot(df1, column):\n",
    "    plt.figure(figsize=(20,5))\n",
    "    plt.subplot(1,2,1)\n",
    "    sns.boxplot(data=df1, x=column)\n",
    "    plt.title(f'Box Plot for {column}')\n",
    "\n",
    "    plt.subplot(1,2,2)\n",
    "    sns.histplot(data=df1, x=column, kde=True, bins=50)\n",
    "    plt.title(f'Distribution Plot for {column}')"
   ]
  },
  {
   "cell_type": "code",
   "execution_count": null,
   "metadata": {},
   "outputs": [
    {
     "data": {
      "text/plain": [
       "Index(['ID', 'Case Number', 'Date', 'Block', 'IUCR', 'Primary Type',\n",
       "       'Description', 'Location Description', 'Arrest', 'Domestic', 'Beat',\n",
       "       'District', 'Ward', 'Community Area', 'FBI Code', 'X Coordinate',\n",
       "       'Y Coordinate', 'Year', 'Updated On', 'Latitude', 'Longitude',\n",
       "       'Location'],\n",
       "      dtype='object')"
      ]
     },
     "execution_count": 28,
     "metadata": {},
     "output_type": "execute_result"
    }
   ],
   "source": [
    "df.columns"
   ]
  },
  {
   "cell_type": "code",
   "execution_count": null,
   "metadata": {},
   "outputs": [],
   "source": [
    "continuous_clms = [\"ID\",\t\"Beat\",\t\"District\",\t\"Ward\",\t\"Community Area\",\t\"X Coordinate\",\t\"Y Coordinate\",\t\"Year\",\t\"Latitude\",\t\"Longitude\"]\n",
    "for i in continuous_clms:\n",
    "    plot(df, i)"
   ]
  },
  {
   "cell_type": "code",
   "execution_count": null,
   "metadata": {},
   "outputs": [],
   "source": []
  }
 ],
 "metadata": {
  "kernelspec": {
   "display_name": "Python 3",
   "language": "python",
   "name": "python3"
  },
  "language_info": {
   "codemirror_mode": {
    "name": "ipython",
    "version": 3
   },
   "file_extension": ".py",
   "mimetype": "text/x-python",
   "name": "python",
   "nbconvert_exporter": "python",
   "pygments_lexer": "ipython3",
   "version": "3.12.1"
  }
 },
 "nbformat": 4,
 "nbformat_minor": 2
}
